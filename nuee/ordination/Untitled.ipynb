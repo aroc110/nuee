{
 "cells": [
  {
   "cell_type": "code",
   "execution_count": 2,
   "metadata": {},
   "outputs": [
    {
     "name": "stderr",
     "output_type": "stream",
     "text": [
      "also installing the dependencies ‘tensorA’, ‘energy’, ‘bayesm’\n",
      "\n",
      "Warning message in install.packages(\"compositions\", repos = \"http://cran.us.r-project.org\"):\n",
      "“installation of package ‘tensorA’ had non-zero exit status”Warning message in install.packages(\"compositions\", repos = \"http://cran.us.r-project.org\"):\n",
      "“installation of package ‘energy’ had non-zero exit status”Warning message in install.packages(\"compositions\", repos = \"http://cran.us.r-project.org\"):\n",
      "“installation of package ‘bayesm’ had non-zero exit status”Warning message in install.packages(\"compositions\", repos = \"http://cran.us.r-project.org\"):\n",
      "“installation of package ‘compositions’ had non-zero exit status”Updating HTML index of packages in '.Library'\n",
      "Making 'packages.html' ... done\n"
     ]
    }
   ],
   "source": [
    "install.packages('compositions', repos='http://cran.us.r-project.org')"
   ]
  },
  {
   "cell_type": "code",
   "execution_count": 1,
   "metadata": {},
   "outputs": [
    {
     "ename": "ERROR",
     "evalue": "Error in library(compositions): there is no package called ‘compositions’\n",
     "execution_count": 1,
     "output_type": "error",
     "traceback": [
      "Error in library(compositions): there is no package called ‘compositions’\nTraceback:\n",
      "1. library(compositions)",
      "2. stop(txt, domain = NA)"
     ]
    }
   ],
   "source": [
    "library(compositions)"
   ]
  }
 ],
 "metadata": {
  "kernelspec": {
   "display_name": "R",
   "language": "R",
   "name": "ir"
  },
  "language_info": {
   "codemirror_mode": "r",
   "file_extension": ".r",
   "mimetype": "text/x-r-source",
   "name": "R",
   "pygments_lexer": "r",
   "version": "3.4.2"
  }
 },
 "nbformat": 4,
 "nbformat_minor": 2
}
